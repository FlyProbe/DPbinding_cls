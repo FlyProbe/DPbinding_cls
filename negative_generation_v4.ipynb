{
 "cells": [
  {
   "cell_type": "code",
   "execution_count": 1,
   "metadata": {},
   "outputs": [],
   "source": [
    "import random\n",
    "import pandas as pd\n",
    "# Create a negative set by shuffling TF sequences and binding sites across different species\n",
    "random.seed(42)  # for reproducibility\n",
    "\n",
    "train_df = pd.read_csv('../dataset/train_positive_set_v4.csv')\n",
    "test_df = pd.read_csv('../dataset/test_positive_set_v4.csv')\n"
   ]
  },
  {
   "cell_type": "code",
   "execution_count": 5,
   "metadata": {},
   "outputs": [
    {
     "name": "stdout",
     "output_type": "stream",
     "text": [
      "Positive samples: 12117\n",
      "Negative samples: 23598\n",
      "Total dataset size: 35715\n"
     ]
    }
   ],
   "source": [
    "# Get unique species in the dataset\n",
    "species_list = train_df['species'].unique()\n",
    "\n",
    "# Function to generate fake pairs that don't exist in combined_df\n",
    "def generate_negative_samples(df, n_samples=20000):\n",
    "    # Create a set of existing pairs for quick lookup\n",
    "    existing_pairs = set(zip(df['TF sequence'], df['binding site sequence']))\n",
    "    \n",
    "    negative_samples = []\n",
    "    \n",
    "    # Track how many attempts we make to avoid infinite loops\n",
    "    attempts = 0\n",
    "    max_attempts = n_samples * 10\n",
    "    \n",
    "    while len(negative_samples) < n_samples and attempts < max_attempts:\n",
    "        attempts += 1\n",
    "        \n",
    "        # Pick two different species\n",
    "        species1, species2 = random.sample(list(species_list), 2)\n",
    "        \n",
    "        # Get TF from species1\n",
    "        tf_rows = df[df['species'] == species1]\n",
    "        if len(tf_rows) == 0:\n",
    "            continue\n",
    "        tf_idx = random.randint(0, len(tf_rows) - 1)\n",
    "        tf_row = tf_rows.iloc[tf_idx]\n",
    "        tf_name = tf_row['TF name']\n",
    "        tf_sequence = tf_row['TF sequence']\n",
    "        \n",
    "        # Get binding site from species2\n",
    "        bs_rows = df[df['species'] == species2]\n",
    "        if len(bs_rows) == 0:\n",
    "            continue\n",
    "        bs_idx = random.randint(0, len(bs_rows) - 1)\n",
    "        binding_site = bs_rows.iloc[bs_idx]['binding site sequence']\n",
    "        \n",
    "        # Check if this pair already exists in the positive set\n",
    "        if (tf_sequence, binding_site) not in existing_pairs:\n",
    "            negative_samples.append({\n",
    "                'species': 'fake', # fake species\n",
    "                'TF name': tf_name,\n",
    "                'TF sequence': tf_sequence,\n",
    "                'binding site sequence': binding_site,\n",
    "                'label': 0  # 0 for negative samples\n",
    "            })\n",
    "            \n",
    "            # Add to existing pairs to avoid duplicates in negative set\n",
    "            existing_pairs.add((tf_sequence, binding_site))\n",
    "    \n",
    "    return pd.DataFrame(negative_samples)\n",
    "\n",
    "# Generate negative samples\n",
    "negative_df = generate_negative_samples(train_df, n_samples=len(train_df)*2.05)\n",
    "\n",
    "negative_df_test = negative_df.sample(frac=0.05, random_state=42)\n",
    "negative_df = negative_df.drop(negative_df_test.index)\n",
    "\n",
    "# Add label column to combined_df (positive samples)\n",
    "train_df_labeled = train_df.copy()\n",
    "train_df_labeled['label'] = 1  # 1 for positive samples\n",
    "\n",
    "# Combine positive and negative datasets\n",
    "final_dataset = pd.concat([train_df_labeled, negative_df], ignore_index=True)\n",
    "\n",
    "# Shuffle the final dataset\n",
    "final_dataset = final_dataset.sample(frac=1, random_state=42).reset_index(drop=True)\n",
    "\n",
    "print(f\"Positive samples: {len(train_df_labeled)}\")\n",
    "print(f\"Negative samples: {len(negative_df)}\")\n",
    "print(f\"Total dataset size: {len(final_dataset)}\")\n",
    "\n",
    "# Save the final dataset\n",
    "final_dataset.to_csv('../dataset/training_dataset_with_negatives_v4.csv', index=False)"
   ]
  },
  {
   "cell_type": "code",
   "execution_count": 6,
   "metadata": {},
   "outputs": [
    {
     "data": {
      "text/plain": [
       "1242"
      ]
     },
     "execution_count": 6,
     "metadata": {},
     "output_type": "execute_result"
    }
   ],
   "source": [
    "len(negative_df_test)"
   ]
  },
  {
   "cell_type": "code",
   "execution_count": 8,
   "metadata": {},
   "outputs": [
    {
     "data": {
      "text/plain": [
       "label\n",
       "0    23598\n",
       "1    12117\n",
       "Name: count, dtype: int64"
      ]
     },
     "execution_count": 8,
     "metadata": {},
     "output_type": "execute_result"
    }
   ],
   "source": [
    "final_dataset.value_counts('label')"
   ]
  },
  {
   "cell_type": "code",
   "execution_count": null,
   "metadata": {},
   "outputs": [
    {
     "data": {
      "text/plain": [
       "1331"
      ]
     },
     "execution_count": 9,
     "metadata": {},
     "output_type": "execute_result"
    }
   ],
   "source": [
    "negative_df_generated_by_test = generate_negative_samples(test_df, n_samples=len(test_df))\n",
    "test_df_labeled = test_df.copy()\n",
    "test_df_labeled['label'] = 1\n",
    "final_negative_test = pd.concat([negative_df_generated_by_test, negative_df_test], ignore_index=True)\n",
    "finall_test_dataset = pd.concat([test_df_labeled, final_negative_test], ignore_index=True)\n",
    "finall_test_dataset = finall_test_dataset.sample(frac=1, random_state=42).reset_index(drop=True)\n",
    "finall_test_dataset.to_csv('../dataset/test_dataset_with_negatives_v4.csv', index=False)"
   ]
  },
  {
   "cell_type": "code",
   "execution_count": 10,
   "metadata": {},
   "outputs": [
    {
     "data": {
      "text/plain": [
       "label\n",
       "0    1331\n",
       "1     844\n",
       "Name: count, dtype: int64"
      ]
     },
     "execution_count": 10,
     "metadata": {},
     "output_type": "execute_result"
    }
   ],
   "source": [
    "finall_test_dataset.value_counts('label')"
   ]
  },
  {
   "cell_type": "code",
   "execution_count": null,
   "metadata": {},
   "outputs": [],
   "source": []
  }
 ],
 "metadata": {
  "kernelspec": {
   "display_name": "esm3_env",
   "language": "python",
   "name": "python3"
  },
  "language_info": {
   "codemirror_mode": {
    "name": "ipython",
    "version": 3
   },
   "file_extension": ".py",
   "mimetype": "text/x-python",
   "name": "python",
   "nbconvert_exporter": "python",
   "pygments_lexer": "ipython3",
   "version": "3.12.0"
  }
 },
 "nbformat": 4,
 "nbformat_minor": 2
}
